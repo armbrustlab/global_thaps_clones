{
 "cells": [
  {
   "cell_type": "markdown",
   "metadata": {},
   "source": [
    "# Looking at crossover event across all strains."
   ]
  },
  {
   "cell_type": "code",
   "execution_count": 1,
   "metadata": {
    "collapsed": true
   },
   "outputs": [],
   "source": [
    "%matplotlib inline"
   ]
  },
  {
   "cell_type": "markdown",
   "metadata": {},
   "source": [
    "# Loading in necessary functions."
   ]
  },
  {
   "cell_type": "code",
   "execution_count": 2,
   "metadata": {
    "collapsed": false
   },
   "outputs": [
    {
     "name": "stdout",
     "output_type": "stream",
     "text": [
      "=======../../vcf/GATK/1335full_phased.vcf=======\n",
      "#SNPs: 166939\n",
      "#INDELs: 8634\n",
      "#VARs: 175573\n",
      "#HAPBLOCKs: 27724\n",
      "AVG SNP DEPTH: 78.9326377063\n",
      "TOTAL LENGTH COVERED: 22884028 bps\n",
      "\n",
      "=======../../vcf/GATK/1007_phased.vcf=======\n",
      "#SNPs: 127221\n",
      "#INDELs: 6114\n",
      "#VARs: 133335\n",
      "#HAPBLOCKs: 17129\n",
      "AVG SNP DEPTH: 31.2347845652\n",
      "TOTAL LENGTH COVERED: 21074161 bps\n",
      "\n",
      "=======../../vcf/GATK/1012_phased.vcf=======\n",
      "#SNPs: 133119\n",
      "#INDELs: 7099\n",
      "#VARs: 140218\n",
      "#HAPBLOCKs: 12206\n",
      "AVG SNP DEPTH: 55.4267283801\n",
      "TOTAL LENGTH COVERED: 22834488 bps\n",
      "\n",
      "=======../../vcf/GATK/1013_phased.vcf=======\n",
      "#SNPs: 225281\n",
      "#INDELs: 11471\n",
      "#VARs: 236752\n",
      "#HAPBLOCKs: 19570\n",
      "AVG SNP DEPTH: 49.9257197405\n",
      "TOTAL LENGTH COVERED: 27558517 bps\n",
      "\n",
      "=======../../vcf/GATK/1014_phased.vcf=======\n",
      "#SNPs: 71266\n",
      "#INDELs: 2285\n",
      "#VARs: 73551\n",
      "#HAPBLOCKs: 11309\n",
      "AVG SNP DEPTH: 26.0904950307\n",
      "TOTAL LENGTH COVERED: 13439146 bps\n",
      "\n",
      "=======../../vcf/GATK/1015_phased.vcf=======\n",
      "#SNPs: 137099\n",
      "#INDELs: 7461\n",
      "#VARs: 144560\n",
      "#HAPBLOCKs: 12428\n",
      "AVG SNP DEPTH: 50.858065855\n",
      "TOTAL LENGTH COVERED: 23842001 bps\n",
      "\n",
      "=======../../vcf/GATK/IT_phased.vcf=======\n",
      "#SNPs: 266584\n",
      "#INDELs: 13112\n",
      "#VARs: 279696\n",
      "#HAPBLOCKs: 23241\n",
      "AVG SNP DEPTH: 46.7624277787\n",
      "TOTAL LENGTH COVERED: 25769954 bps\n",
      "\n"
     ]
    }
   ],
   "source": [
    "#importing necessary modules\n",
    "import vcfparser\n",
    "import sys\n",
    "from operator import itemgetter\n",
    "import matplotlib.pyplot as plt\n",
    "import ast\n",
    "from joblib import Parallel, delayed\n",
    "import random\n",
    "import numpy as np\n",
    "from sklearn.metrics import jaccard_similarity_score\n",
    "\n",
    "#Loading necessary parameters.\n",
    "vcfroot = \"../../vcf/GATK/\"\n",
    "vcfFileNames = [\"1335full_phased.vcf\", \"1007_phased.vcf\", \"1012_phased.vcf\", \"1013_phased.vcf\", \"1014_phased.vcf\", \"1015_phased.vcf\", \"IT_phased.vcf\"]\n",
    "strainIDs = [\"1335\", \"1007\", \"1012\", \"1013\", \"1014\", \"1015\", \"3367\"]\n",
    "vcfObjects = []\n",
    "for i in vcfFileNames:\n",
    "    vcfObjects.append(vcfparser.VCF(vcfroot+i))   "
   ]
  },
  {
   "cell_type": "code",
   "execution_count": 3,
   "metadata": {
    "collapsed": true
   },
   "outputs": [],
   "source": [
    "def loaddict(filename):\n",
    "    s = open(filename, 'r').read()\n",
    "    return eval(s)"
   ]
  },
  {
   "cell_type": "code",
   "execution_count": 4,
   "metadata": {
    "collapsed": true
   },
   "outputs": [],
   "source": [
    "#Compairs two pairs of variants from two strains\n",
    "#and detects if there is a sign of crossover.\n",
    "#List of potential outputs\n",
    "\n",
    "#-2: fatal error happened\n",
    "#-1: point mutation detected\n",
    "#0: no crossover detected\n",
    "#1: crossover detected\n",
    "\n",
    "def isCrossOver(v0a,v1a,v0b,v1b,verbose=False):\n",
    "    #first compare and seee if they have the same pairs\n",
    "\n",
    "    #make sure there is no mutation\n",
    "    #check for the first position.\n",
    "    if not(isMutation(v0a.ref, v0a.alt, v0b.ref, v0b.alt)):\n",
    "        if verbose: print \"mutation1\"\n",
    "        return -1\n",
    "        \n",
    "    #check for the second position.\n",
    "    if not(isMutation(v1a.ref, v1a.alt, v1b.ref, v1b.alt)):\n",
    "        if verbose: print \"mutation2\"\n",
    "        return -1\n",
    "\n",
    "    #determine if there was recombination\n",
    "    #Comparing only the block-1 not block-2.\n",
    "    #a1 and a2 both represnt haplotypes for strain A.\n",
    "    a1 = []\n",
    "    a2 = []\n",
    "    if v0a.format[\"HP\"].ref == 1:\n",
    "        a1.append(v0a.ref)\n",
    "        a2.append(v0a.alt)\n",
    "    elif v0a.format[\"HP\"].alt == 1:\n",
    "        a1.append(v0a.alt)\n",
    "        a2.append(v0a.ref)\n",
    "    else:\n",
    "        print \"This should never happen\"\n",
    "        return -2\n",
    "    \n",
    "    if v1a.format[\"HP\"].ref == 1:\n",
    "        a1.append(v1a.ref)\n",
    "        a2.append(v1a.alt)\n",
    "    elif v1a.format[\"HP\"].alt == 1:\n",
    "        a1.append(v1a.alt)\n",
    "        a2.append(v1a.ref)\n",
    "    else:\n",
    "        print \"This should never happen\"\n",
    "        return -2\n",
    "    \n",
    "    #b1 and b2 both represnt haplotypes for strain B.\n",
    "    b1 = []\n",
    "    b2 = []\n",
    "    if v0b.format[\"HP\"].ref == 1:\n",
    "        b1.append(v0b.ref)\n",
    "        b2.append(v0b.alt)\n",
    "    elif v0b.format[\"HP\"].alt == 1:\n",
    "        b1.append(v0b.alt)\n",
    "        b2.append(v0b.ref)\n",
    "    else:\n",
    "        print \"This should never happen\"\n",
    "        return -2\n",
    "\n",
    "    if v1b.format[\"HP\"].ref == 1:\n",
    "        b1.append(v1b.ref)\n",
    "        b2.append(v1b.alt)\n",
    "    elif v1b.format[\"HP\"].alt == 1:\n",
    "        b1.append(v1b.alt)\n",
    "        b2.append(v1b.ref)\n",
    "    else:\n",
    "        print \"This should never happen\"\n",
    "        return -2\n",
    "\n",
    "    #now check if there is a crossover.\n",
    "    if a1 != b1 and a1 != b2:\n",
    "        if verbose:\n",
    "            print\n",
    "            print a1, b1\n",
    "            print a2, b2\n",
    "        \n",
    "        return 1\n",
    "    return 0\n",
    "\n",
    "#This function checks if a point mutation has happend in this pair\n",
    "#the pair will be disregarded if point mutation is spotted.\n",
    "def isMutation(x1, x2, y1, y2):\n",
    "    if x1 == y1 and x2 == y2:\n",
    "        return True\n",
    "    elif x1 == y2 and x2 == y1:\n",
    "        return True\n",
    "    else:\n",
    "        return False"
   ]
  },
  {
   "cell_type": "code",
   "execution_count": 21,
   "metadata": {
    "collapsed": false
   },
   "outputs": [],
   "source": [
    "def pairsFromDict(dic):\n",
    "    ret = []\n",
    "    for k in dic.keys():\n",
    "        if k[0:3] == \"Chr\":\n",
    "            for i in dic[k]:\n",
    "                ret.append((k,i))\n",
    "    return set(ret)"
   ]
  },
  {
   "cell_type": "markdown",
   "metadata": {},
   "source": [
    "# Functions for visualization."
   ]
  },
  {
   "cell_type": "code",
   "execution_count": 18,
   "metadata": {
    "collapsed": true
   },
   "outputs": [],
   "source": [
    "#get the common MISP pairs."
   ]
  },
  {
   "cell_type": "code",
   "execution_count": 23,
   "metadata": {
    "collapsed": false
   },
   "outputs": [],
   "source": [
    "common_pairs = pairsFromDict(loaddict(vcfFileNames[0]+\"vs\"+vcfFileNames[1]+\".MISPpairs\"))\n",
    "for i in range(2, len(vcfFileNames)):\n",
    "    common_pairs = common_pairs.intersection(pairsFromDict(loaddict(vcfFileNames[0]+\"vs\"+vcfFileNames[i]+\".MISPpairs\")))"
   ]
  },
  {
   "cell_type": "code",
   "execution_count": 24,
   "metadata": {
    "collapsed": false
   },
   "outputs": [
    {
     "name": "stdout",
     "output_type": "stream",
     "text": [
      "set([('Chr3', (1450867, 1450886)), ('Chr12', (1110751, 1110752)), ('Chr1', (584858, 584865)), ('Chr4', (1498430, 1498434)), ('Chr5', (1087088, 1087107)), ('Chr15', (75777, 75800)), ('Chr5', (317174, 317186)), ('Chr12', (145016, 145017)), ('Chr1', (1156976, 1156979)), ('Chr5', (2109945, 2109946)), ('Chr1', (1376348, 1376349)), ('Chr5', (2060140, 2060141)), ('Chr20', (326505, 326510)), ('Chr2', (2170311, 2170312)), ('Chr9', (934967, 934968)), ('Chr5', (1062733, 1062744)), ('Chr1', (1206953, 1206959)), ('Chr3', (1805746, 1805766)), ('Chr14', (618751, 618752)), ('Chr5', (1087107, 1087119)), ('Chr11a', (6241, 6242)), ('Chr22', (153098, 153099)), ('Chr24', (183952, 183953)), ('Chr1', (1055425, 1055436)), ('Chr3', (913997, 914015)), ('Chr3', (2422352, 2422355)), ('Chr8', (449077, 449078)), ('Chr9', (192481, 192482)), ('Chr5', (1353548, 1353549)), ('Chr1', (2422435, 2422449)), ('Chr7', (1774380, 1774381))])\n"
     ]
    }
   ],
   "source": [
    "print common_pairs"
   ]
  },
  {
   "cell_type": "code",
   "execution_count": null,
   "metadata": {
    "collapsed": true
   },
   "outputs": [],
   "source": []
  }
 ],
 "metadata": {
  "kernelspec": {
   "display_name": "Python 2",
   "language": "python",
   "name": "python2"
  },
  "language_info": {
   "codemirror_mode": {
    "name": "ipython",
    "version": 2
   },
   "file_extension": ".py",
   "mimetype": "text/x-python",
   "name": "python",
   "nbconvert_exporter": "python",
   "pygments_lexer": "ipython2",
   "version": "2.7.10"
  }
 },
 "nbformat": 4,
 "nbformat_minor": 0
}
